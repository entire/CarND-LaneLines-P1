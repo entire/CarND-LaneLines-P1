{
 "cells": [
  {
   "cell_type": "markdown",
   "metadata": {
    "deletable": true,
    "editable": true
   },
   "source": [
    "# Self-Driving Car Engineer Nanodegree\n",
    "\n",
    "\n",
    "## Project: **Finding Lane Lines on the Road** \n",
    "***\n",
    "In this project, you will use the tools you learned about in the lesson to identify lane lines on the road.  You can develop your pipeline on a series of individual images, and later apply the result to a video stream (really just a series of images). Check out the video clip \"raw-lines-example.mp4\" (also contained in this repository) to see what the output should look like after using the helper functions below. \n",
    "\n",
    "Once you have a result that looks roughly like \"raw-lines-example.mp4\", you'll need to get creative and try to average and/or extrapolate the line segments you've detected to map out the full extent of the lane lines.  You can see an example of the result you're going for in the video \"P1_example.mp4\".  Ultimately, you would like to draw just one line for the left side of the lane, and one for the right.\n",
    "\n",
    "In addition to implementing code, there is a brief writeup to complete. The writeup should be completed in a separate file, which can be either a markdown file or a pdf document. There is a [write up template](https://github.com/udacity/CarND-LaneLines-P1/blob/master/writeup_template.md) that can be used to guide the writing process. Completing both the code in the Ipython notebook and the writeup template will cover all of the [rubric points](https://review.udacity.com/#!/rubrics/322/view) for this project.\n",
    "\n",
    "---\n",
    "Let's have a look at our first image called 'test_images/solidWhiteRight.jpg'.  Run the 2 cells below (hit Shift-Enter or the \"play\" button above) to display the image.\n",
    "\n",
    "**Note: If, at any point, you encounter frozen display windows or other confounding issues, you can always start again with a clean slate by going to the \"Kernel\" menu above and selecting \"Restart & Clear Output\".**\n",
    "\n",
    "---"
   ]
  },
  {
   "cell_type": "markdown",
   "metadata": {
    "deletable": true,
    "editable": true
   },
   "source": [
    "**The tools you have are color selection, region of interest selection, grayscaling, Gaussian smoothing, Canny Edge Detection and Hough Tranform line detection.  You  are also free to explore and try other techniques that were not presented in the lesson.  Your goal is piece together a pipeline to detect the line segments in the image, then average/extrapolate them and draw them onto the image for display (as below).  Once you have a working pipeline, try it out on the video stream below.**\n",
    "\n",
    "---\n",
    "\n",
    "<figure>\n",
    " <img src=\"line-segments-example.jpg\" width=\"380\" alt=\"Combined Image\" />\n",
    " <figcaption>\n",
    " <p></p> \n",
    " <p style=\"text-align: center;\"> Your output should look something like this (above) after detecting line segments using the helper functions below </p> \n",
    " </figcaption>\n",
    "</figure>\n",
    " <p></p> \n",
    "<figure>\n",
    " <img src=\"laneLines_thirdPass.jpg\" width=\"380\" alt=\"Combined Image\" />\n",
    " <figcaption>\n",
    " <p></p> \n",
    " <p style=\"text-align: center;\"> Your goal is to connect/average/extrapolate line segments to get output like this</p> \n",
    " </figcaption>\n",
    "</figure>"
   ]
  },
  {
   "cell_type": "markdown",
   "metadata": {
    "deletable": true,
    "editable": true
   },
   "source": [
    "**Run the cell below to import some packages.  If you get an `import error` for a package you've already installed, try changing your kernel (select the Kernel menu above --> Change Kernel).  Still have problems?  Try relaunching Jupyter Notebook from the terminal prompt.  Also, see [this forum post](https://carnd-forums.udacity.com/cq/viewquestion.action?spaceKey=CAR&id=29496372&questionTitle=finding-lanes---import-cv2-fails-even-though-python-in-the-terminal-window-has-no-problem-with-import-cv2) for more troubleshooting tips.**  "
   ]
  },
  {
   "cell_type": "markdown",
   "metadata": {
    "deletable": true,
    "editable": true
   },
   "source": [
    "## Import Packages"
   ]
  },
  {
   "cell_type": "code",
   "execution_count": 1,
   "metadata": {
    "collapsed": false,
    "deletable": true,
    "editable": true
   },
   "outputs": [
    {
     "ename": "ImportError",
     "evalue": "No module named 'cachetools'",
     "output_type": "error",
     "traceback": [
      "\u001b[0;31m---------------------------------------------------------------------------\u001b[0m",
      "\u001b[0;31mImportError\u001b[0m                               Traceback (most recent call last)",
      "\u001b[0;32m<ipython-input-1-8f1478b1c16f>\u001b[0m in \u001b[0;36m<module>\u001b[0;34m()\u001b[0m\n\u001b[1;32m      4\u001b[0m \u001b[0;32mimport\u001b[0m \u001b[0mnumpy\u001b[0m \u001b[0;32mas\u001b[0m \u001b[0mnp\u001b[0m\u001b[0;34m\u001b[0m\u001b[0m\n\u001b[1;32m      5\u001b[0m \u001b[0;32mimport\u001b[0m \u001b[0mcv2\u001b[0m\u001b[0;34m\u001b[0m\u001b[0m\n\u001b[0;32m----> 6\u001b[0;31m \u001b[0;32mfrom\u001b[0m \u001b[0mcachetools\u001b[0m \u001b[0;32mimport\u001b[0m \u001b[0mLRUCache\u001b[0m\u001b[0;34m\u001b[0m\u001b[0m\n\u001b[0m\u001b[1;32m      7\u001b[0m \u001b[0;32mfrom\u001b[0m \u001b[0mnumpy\u001b[0m\u001b[0;34m.\u001b[0m\u001b[0mpolynomial\u001b[0m \u001b[0;32mimport\u001b[0m \u001b[0mPolynomial\u001b[0m \u001b[0;32mas\u001b[0m \u001b[0mpolyeval\u001b[0m\u001b[0;34m\u001b[0m\u001b[0m\n\u001b[1;32m      8\u001b[0m \u001b[0;34m\u001b[0m\u001b[0m\n",
      "\u001b[0;31mImportError\u001b[0m: No module named 'cachetools'"
     ]
    }
   ],
   "source": [
    "#importing some useful packages\n",
    "import matplotlib.pyplot as plt\n",
    "import matplotlib.image as mpimg\n",
    "import numpy as np\n",
    "import cv2\n",
    "from cachetools import LRUCache\n",
    "from numpy.polynomial import Polynomial as polyeval\n",
    "\n",
    "%matplotlib inline"
   ]
  },
  {
   "cell_type": "markdown",
   "metadata": {
    "deletable": true,
    "editable": true
   },
   "source": [
    "## Read in an Image"
   ]
  },
  {
   "cell_type": "code",
   "execution_count": null,
   "metadata": {
    "collapsed": false,
    "deletable": true,
    "editable": true
   },
   "outputs": [],
   "source": [
    "#reading in an image\n",
    "image = mpimg.imread('test_images/solidYellowLeft.jpg')\n",
    "\n",
    "# setup cachetools\n",
    "cache = LRUCache(maxsize=4)\n",
    "slope_cache = LRUCache(maxsize=2)\n",
    "\n",
    "#printing out some stats and plotting\n",
    "print('This image is:', type(image), 'with dimesions:', image.shape)\n",
    "plt.imshow(image)  # if you wanted to show a single color channel image called 'gray', for example, call as plt.imshow(gray, cmap='gray')"
   ]
  },
  {
   "cell_type": "markdown",
   "metadata": {
    "deletable": true,
    "editable": true
   },
   "source": [
    "## Ideas for Lane Detection Pipeline"
   ]
  },
  {
   "cell_type": "markdown",
   "metadata": {
    "deletable": true,
    "editable": true
   },
   "source": [
    "**Some OpenCV functions (beyond those introduced in the lesson) that might be useful for this project are:**\n",
    "\n",
    "`cv2.inRange()` for color selection  \n",
    "`cv2.fillPoly()` for regions selection  \n",
    "`cv2.line()` to draw lines on an image given endpoints  \n",
    "`cv2.addWeighted()` to coadd / overlay two images\n",
    "`cv2.cvtColor()` to grayscale or change color\n",
    "`cv2.imwrite()` to output images to file  \n",
    "`cv2.bitwise_and()` to apply a mask to an image\n",
    "\n",
    "**Check out the OpenCV documentation to learn about these and discover even more awesome functionality!**"
   ]
  },
  {
   "cell_type": "markdown",
   "metadata": {
    "deletable": true,
    "editable": true
   },
   "source": [
    "## Helper Functions"
   ]
  },
  {
   "cell_type": "markdown",
   "metadata": {
    "deletable": true,
    "editable": true
   },
   "source": [
    "Below are some helper functions to help get you started. They should look familiar from the lesson!"
   ]
  },
  {
   "cell_type": "code",
   "execution_count": null,
   "metadata": {
    "collapsed": false,
    "deletable": true,
    "editable": true
   },
   "outputs": [],
   "source": [
    "import math\n",
    "\n",
    "def bgr_to_hsv(image):\n",
    "    return cv2.cvtColor(image, cv2.COLOR_BGR2HSV)\n",
    "\n",
    "def yellow_white_filter(img):\n",
    "    # define range of white color in HSV\n",
    "    lower_white = np.array([0,0,0], dtype=np.uint8)\n",
    "    upper_white = np.array([200,200,200], dtype=np.uint8)\n",
    "\n",
    "    # Threshold the HSV image to get only white colors\n",
    "    mask = cv2.inRange(img, lower_white, upper_white)\n",
    "\n",
    "    return mask\n",
    "\n",
    "def grayscale(img):\n",
    "    \"\"\"Applies the Grayscale transform\n",
    "    This will return an image with only one color channel\n",
    "    but NOTE: to see the returned image as grayscale\n",
    "    (assuming your grayscaled image is called 'gray')\n",
    "    you should call plt.imshow(gray, cmap='gray')\"\"\"\n",
    "    return cv2.cvtColor(img, cv2.COLOR_BGR2GRAY)\n",
    "    # Or use BGR2GRAY if you read an image with cv2.imread()\n",
    "    # return cv2.cvtColor(img, cv2.COLOR_BGR2GRAY)\n",
    "    \n",
    "def canny(img, low_threshold, high_threshold):\n",
    "    \"\"\"Applies the Canny transform\"\"\"\n",
    "    return cv2.Canny(img, low_threshold, high_threshold)\n",
    "\n",
    "def gaussian_blur(img, kernel_size):\n",
    "    \"\"\"Applies a Gaussian Noise kernel\"\"\"\n",
    "    return cv2.GaussianBlur(img, (kernel_size, kernel_size), 0)\n",
    "\n",
    "def region_of_interest(img, vertices):\n",
    "    \"\"\"\n",
    "    Applies an image mask.\n",
    "    \n",
    "    Only keeps the region of the image defined by the polygon\n",
    "    formed from `vertices`. The rest of the image is set to black.\n",
    "    \"\"\"\n",
    "    #defining a blank mask to start with\n",
    "    mask = np.zeros_like(img)   \n",
    "    \n",
    "    #defining a 3 channel or 1 channel color to fill the mask with depending on the input image\n",
    "    if len(img.shape) > 2:\n",
    "        channel_count = img.shape[2]  # i.e. 3 or 4 depending on your image\n",
    "        ignore_mask_color = (255,) * channel_count\n",
    "    else:\n",
    "        ignore_mask_color = 255\n",
    "        \n",
    "    #filling pixels inside the polygon defined by \"vertices\" with the fill color    \n",
    "    cv2.fillPoly(mask, vertices, ignore_mask_color)\n",
    "    \n",
    "    #returning the image only where mask pixels are nonzero\n",
    "    masked_image = cv2.bitwise_and(img, mask)\n",
    "    return masked_image\n",
    "\n",
    "def original_draw_lines(img, lines, color=[255, 0, 0], thickness=2):\n",
    "    \"\"\"\n",
    "    NOTE: this is the function you might want to use as a starting point once you want to\n",
    "    average/extrapolate the line segments you detect to map out the full\n",
    "    extent of the lane (going from the result shown in raw-lines-example.mp4\n",
    "    to that shown in P1_example.mp4).\n",
    "\n",
    "    Think about things like separating line segments by their\n",
    "    slope ((y2-y1)/(x2-x1)) to decide which segments are part of the left\n",
    "    line vs. the right line.  Then, you can average the position of each of\n",
    "    the lines and extrapolate to the top and bottom of the lane.\n",
    "\n",
    "    This function draws `lines` with `color` and `thickness`.\n",
    "    Lines are drawn on the image inplace (mutates the image).\n",
    "    If you want to make the lines semi-transparent, think about combining\n",
    "    this function with the weighted_img() function below\n",
    "    \"\"\"\n",
    "    for line in lines:\n",
    "        for x1,y1,x2,y2 in line:\n",
    "            cv2.line(img, (x1, y1), (x2, y2), color, thickness)\n",
    "\n",
    "\n",
    "def draw_lines(img, lines, color=[30, 208, 188], thickness=10):\n",
    "\n",
    "    right_lane_x = []\n",
    "    left_lane_x = []\n",
    "    right_lane_y = []\n",
    "    left_lane_y = []\n",
    "\n",
    "    right_lengths = []\n",
    "    left_lengths = []\n",
    "    right_slopes = []\n",
    "    left_slopes = []\n",
    "    # set y\n",
    "    y1_pt = 540\n",
    "    y2_pt = 335\n",
    "\n",
    "    if lines is not None:\n",
    "        for line in lines:\n",
    "            for x1,y1,x2,y2 in line:\n",
    "\n",
    "                # 1. get the slope and length\n",
    "                slope = ((y2-y1)/(x2-x1))\n",
    "                length = math.sqrt((x1-x2)**2 + (y1-y2)**2)\n",
    "\n",
    "                # 2. run checks\n",
    "                if 0.4 > slope > -0.4:\n",
    "                    continue\n",
    "\n",
    "                if slope > 0.9:\n",
    "                    continue\n",
    "\n",
    "                if slope < -0.9:\n",
    "                    continue\n",
    "\n",
    "                # 3. separate them between positive and negative slope\n",
    "                if slope > 0:\n",
    "                    # collect right lane x and y\n",
    "                    right_lane_x.extend([x1, x2])\n",
    "                    right_lane_y.extend([y1, y2])\n",
    "                    right_slopes.append(slope)\n",
    "                    right_lengths.append(length)\n",
    "\n",
    "                else:\n",
    "                    # collect left lane x and y\n",
    "                    left_lane_x.extend([x1, x2])\n",
    "                    left_lane_y.extend([y1, y2])\n",
    "                    left_slopes.append(slope)\n",
    "                    left_lengths.append(length)\n",
    "\n",
    "\n",
    "        if right_lane_x and left_lane_x:\n",
    "\n",
    "            # 13. get weighted slope\n",
    "            right_slope = get_weighted_slope(right_slopes, right_lengths)\n",
    "            left_slope = get_weighted_slope(left_slopes, left_lengths)\n",
    "\n",
    "            if slope_cache.currsize > 0:\n",
    "                previous_left_slope = slope_cache[\"left_slope\"]\n",
    "                previous_right_slope = slope_cache[\"right_slope\"]\n",
    "\n",
    "                right_change_percent = ((right_slope - previous_right_slope)/previous_right_slope)*100.0\n",
    "                left_change_percent = ((left_slope - previous_left_slope)/previous_left_slope)*100.0\n",
    "\n",
    "                slope_cache[\"left_slope\"] = left_slope\n",
    "                slope_cache[\"right_slope\"] = right_slope\n",
    "\n",
    "                right_change_percent = abs(right_change_percent)\n",
    "                left_change_percent = abs(left_change_percent)\n",
    "\n",
    "                # check to see if change in percentage is greater than 1.5%\n",
    "                if right_change_percent > 1.5 or left_change_percent > 1.5:\n",
    "                    show_previous_line(img, y1_pt, y2_pt)\n",
    "\n",
    "                else:\n",
    "                    # get polynomial fit\n",
    "                    right_poly = polyeval.fit(np.array(right_lane_x), np.array(right_lane_y), 1)\n",
    "                    left_poly = polyeval.fit(np.array(left_lane_x), np.array(left_lane_y), 1)\n",
    "\n",
    "                    left_x1 = round((left_poly - y1_pt).roots()[0])\n",
    "                    right_x1 = round((right_poly - y1_pt).roots()[0])\n",
    "\n",
    "                    left_x2 = round((left_poly - y2_pt).roots()[0])\n",
    "                    right_x2 = round((right_poly - y2_pt).roots()[0])\n",
    "\n",
    "                    if cache.currsize > 0:\n",
    "                        previous_left_x1 = cache[\"left_x1\"]\n",
    "                        previous_right_x1 = cache[\"right_x1\"]\n",
    "                        previous_left_x2 = cache[\"left_x2\"]\n",
    "                        previous_right_x2 = cache[\"right_x2\"]\n",
    "\n",
    "                        left_x1 = np.average([left_x1, previous_left_x1])\n",
    "                        left_x2 = np.average([left_x2, previous_left_x2])\n",
    "                        right_x1 = np.average([right_x1, previous_right_x1])\n",
    "                        right_x2 = np.average([right_x2, previous_right_x2])\n",
    "\n",
    "                    cache[\"left_x1\"] = left_x1\n",
    "                    cache[\"right_x1\"] = right_x1\n",
    "                    cache[\"left_x2\"] = left_x2\n",
    "                    cache[\"right_x2\"] = right_x2\n",
    "\n",
    "                    cv2.line(img, (int(left_x1), int(y1_pt)), (int(left_x2), int(y2_pt)), color, thickness)\n",
    "                    cv2.line(img, (int(right_x1), int(y1_pt)), (int(right_x2), int(y2_pt)), color, thickness)\n",
    "            else:\n",
    "                slope_cache[\"left_slope\"] = left_slope\n",
    "                slope_cache[\"right_slope\"] = right_slope\n",
    "\n",
    "        else:\n",
    "            show_previous_line(img, y1_pt, y2_pt)\n",
    "    else:\n",
    "        show_previous_line(img, y1_pt, y2_pt)\n",
    "\n",
    "\n",
    "def get_top_percentile(points):\n",
    "    top_limit = np.percentile(points, 80)\n",
    "    bottom_limit = np.percentile(points, 20)\n",
    "    new_points = []\n",
    "    mean_point = np.mean(points)\n",
    "    for point in points:\n",
    "        if point > top_limit and point > bottom_limit:\n",
    "            new_points.append(point)\n",
    "        else:\n",
    "            new_points.append(mean_point)\n",
    "\n",
    "    return new_points\n",
    "\n",
    "def show_previous_line(img, y1, y2):\n",
    "    if cache.currsize > 1:\n",
    "        left_x1 = cache[\"left_x1\"]\n",
    "        right_x1 = cache[\"right_x1\"]\n",
    "        left_x2 = cache[\"left_x2\"]\n",
    "        right_x2 = cache[\"right_x2\"]\n",
    "\n",
    "        cv2.line(img, (int(left_x1), int(y1)), (int(left_x2), int(y2)), color=[30, 208, 188], thickness=10)\n",
    "        cv2.line(img, (int(right_x1), int(y1)), (int(right_x2), int(y2)), color=[30, 208, 188], thickness=10)\n",
    "\n",
    "def get_weighted_slope(slopes, lengths):\n",
    "    weighted_slope = sum(slopes[g] * lengths[g] for g in range(len(slopes))) / sum(lengths)\n",
    "    return weighted_slope\n",
    "\n",
    "def points_from_line(slope, x, intercept):\n",
    "    y = slope*x + intercept\n",
    "    return (int(math.floor(x)), int(math.floor(y)))\n",
    "    \n",
    "def get_y_intercept(m, x1, y1):\n",
    "    b=y1-m*x1\n",
    "    return b\n",
    "\n",
    "def average_slope_intercept(x, y):\n",
    "    A = np.vstack([x, np.ones(len(x))]).T\n",
    "    m, b = np.linalg.lstsq(A, y)[0]\n",
    "    return m, b\n",
    "\n",
    "def get_mid_point(points):\n",
    "        \n",
    "    # TO DO: add weight here in terms of length\n",
    "    # length = math.sqrt((x1-x2)**2 + (y1-y2)**2)\n",
    "\n",
    "    return np.mean(points)\n",
    "\n",
    "def hough_lines(img, rho, theta, threshold, min_line_len, max_line_gap):\n",
    "    \"\"\"\n",
    "    `img` should be the output of a Canny transform.\n",
    "        \n",
    "    Returns an image with hough lines drawn.\n",
    "    \"\"\"\n",
    "    lines = cv2.HoughLinesP(img, rho, theta, threshold, np.array([]), minLineLength=min_line_len, maxLineGap=max_line_gap)\n",
    "    line_img = np.zeros((img.shape[0], img.shape[1], 3), dtype=np.uint8)\n",
    "    draw_lines(line_img, lines)\n",
    "    return line_img\n",
    "\n",
    "# Python 3 has support for cool math symbols.\n",
    "\n",
    "def weighted_img(img, initial_img, α=0.8, β=1., λ=0.):\n",
    "    \"\"\"\n",
    "    `img` is the output of the hough_lines(), An image with lines drawn on it.\n",
    "    Should be a blank image (all black) with lines drawn on it.\n",
    "    \n",
    "    `initial_img` should be the image before any processing.\n",
    "    \n",
    "    The result image is computed as follows:\n",
    "    \n",
    "    initial_img * α + img * β + λ\n",
    "    NOTE: initial_img and img must be the same shape!\n",
    "    \"\"\"\n",
    "    return cv2.addWeighted(initial_img, α, img, β, λ)"
   ]
  },
  {
   "cell_type": "markdown",
   "metadata": {
    "deletable": true,
    "editable": true
   },
   "source": [
    "## Test Images\n",
    "\n",
    "Build your pipeline to work on the images in the directory \"test_images\"  \n",
    "**You should make sure your pipeline works well on these images before you try the videos.**"
   ]
  },
  {
   "cell_type": "code",
   "execution_count": null,
   "metadata": {
    "collapsed": false,
    "deletable": true,
    "editable": true,
    "scrolled": true
   },
   "outputs": [],
   "source": [
    "import os\n",
    "test_images = os.listdir(\"test_images/\")\n",
    "\n",
    "print(test_images)"
   ]
  },
  {
   "cell_type": "markdown",
   "metadata": {
    "deletable": true,
    "editable": true
   },
   "source": [
    "## Build a Lane Finding Pipeline\n",
    "\n"
   ]
  },
  {
   "cell_type": "markdown",
   "metadata": {
    "deletable": true,
    "editable": true
   },
   "source": [
    "Build the pipeline and run your solution on all test_images. Make copies into the test_images directory, and you can use the images in your writeup report.\n",
    "\n",
    "Try tuning the various parameters, especially the low and high Canny thresholds as well as the Hough lines parameters."
   ]
  },
  {
   "cell_type": "code",
   "execution_count": null,
   "metadata": {
    "collapsed": false,
    "deletable": true,
    "editable": true,
    "scrolled": false
   },
   "outputs": [],
   "source": [
    "# TODO: Build your pipeline that will draw lane lines on the test_images\n",
    "# then save them to the test_images directory.\n",
    "\n",
    "image = mpimg.imread(\"test_images/solidWhiteRight.jpg\")\n",
    "\n",
    "# bgr to hsv\n",
    "    hsv = bgr_to_hsv(image)\n",
    "\n",
    "    # filitered\n",
    "    filtered = yellow_white_filter(hsv)\n",
    "\n",
    "    # gaussian blur\n",
    "    kernel_size = 7\n",
    "    blur_gray = gaussian_blur(filtered, kernel_size)\n",
    "\n",
    "    # canny\n",
    "    low_threshold = 1\n",
    "    high_threshold = 5\n",
    "    edges = canny(blur_gray, low_threshold, high_threshold)\n",
    "\n",
    "    # region of interest\n",
    "    vertices = np.array([[(50, 550), (910,550), (510,330),(450, 330)]], dtype=np.int32)\n",
    "    edges = region_of_interest(edges, vertices)\n",
    "\n",
    "    # hough line\n",
    "    rho = 2 # distance resolution in pixels of the Hough grid\n",
    "    theta = np.pi/90\n",
    "    threshold = 15\n",
    "    min_line_len = 50\n",
    "    max_line_gap = 30\n",
    "\n",
    "    # Run Hough on edge detected image\n",
    "    line_img = hough_lines(edges, rho, theta, threshold, min_line_len, max_line_gap)\n",
    "\n",
    "    # weighted image\n",
    "    weighted = weighted_img(line_img, image)\n",
    "    return weighted\n",
    "\n",
    "def yellow_white_filter(img):\n",
    "    # define range of white color in HSV\n",
    "    lower_white = np.array([0,0,0], dtype=np.uint8)\n",
    "    upper_white = np.array([200,200,200], dtype=np.uint8)\n",
    "\n",
    "    # Threshold the HSV image to get only white colors\n",
    "    mask = cv2.inRange(img, lower_white, upper_white)\n",
    "\n",
    "    return mask\n",
    "\n",
    "\n",
    "plt.figure()\n",
    "plt.imshow(lane_finder(image))    \n",
    "plt.show()\n",
    "\n"
   ]
  },
  {
   "cell_type": "markdown",
   "metadata": {
    "deletable": true,
    "editable": true
   },
   "source": [
    "## Test on Videos\n",
    "\n",
    "You know what's cooler than drawing lanes over images? Drawing lanes over video!\n",
    "\n",
    "We can test our solution on two provided videos:\n",
    "\n",
    "`solidWhiteRight.mp4`\n",
    "\n",
    "`solidYellowLeft.mp4`\n",
    "\n",
    "**Note: if you get an `import error` when you run the next cell, try changing your kernel (select the Kernel menu above --> Change Kernel).  Still have problems?  Try relaunching Jupyter Notebook from the terminal prompt. Also, check out [this forum post](https://carnd-forums.udacity.com/questions/22677062/answers/22677109) for more troubleshooting tips.**\n",
    "\n",
    "**If you get an error that looks like this:**\n",
    "```\n",
    "NeedDownloadError: Need ffmpeg exe. \n",
    "You can download it by calling: \n",
    "imageio.plugins.ffmpeg.download()\n",
    "```\n",
    "**Follow the instructions in the error message and check out [this forum post](https://carnd-forums.udacity.com/display/CAR/questions/26218840/import-videofileclip-error) for more troubleshooting tips across operating systems.**"
   ]
  },
  {
   "cell_type": "code",
   "execution_count": null,
   "metadata": {
    "collapsed": false,
    "deletable": true,
    "editable": true
   },
   "outputs": [],
   "source": [
    "import imageio\n",
    "imageio.plugins.ffmpeg.download()\n",
    "# Import everything needed to edit/save/watch video clips\n",
    "from moviepy.editor import VideoFileClip\n",
    "from IPython.display import HTML"
   ]
  },
  {
   "cell_type": "code",
   "execution_count": null,
   "metadata": {
    "collapsed": true,
    "deletable": true,
    "editable": true
   },
   "outputs": [],
   "source": [
    "def process_image(image):\n",
    "    # NOTE: The output you return should be a color image (3 channel) for processing video below\n",
    "    # TODO: put your pipeline here,\n",
    "    # you should return the final output (image where lines are drawn on lanes)\n",
    "    return image"
   ]
  },
  {
   "cell_type": "markdown",
   "metadata": {
    "deletable": true,
    "editable": true
   },
   "source": [
    "Let's try the one with the solid white lane on the right first ..."
   ]
  },
  {
   "cell_type": "code",
   "execution_count": null,
   "metadata": {
    "collapsed": false,
    "deletable": true,
    "editable": true
   },
   "outputs": [],
   "source": [
    "white_output = 'white.mp4'\n",
    "clip1 = VideoFileClip(\"solidWhiteRight.mp4\")\n",
    "white_clip = clip1.fl_image(lane_finder) #NOTE: this function expects color images!!\n",
    "%time white_clip.write_videofile(white_output, audio=False)"
   ]
  },
  {
   "cell_type": "markdown",
   "metadata": {
    "deletable": true,
    "editable": true
   },
   "source": [
    "Play the video inline, or if you prefer find the video in your filesystem (should be in the same directory) and play it in your video player of choice."
   ]
  },
  {
   "cell_type": "code",
   "execution_count": null,
   "metadata": {
    "collapsed": false,
    "deletable": true,
    "editable": true
   },
   "outputs": [],
   "source": [
    "HTML(\"\"\"\n",
    "<video width=\"960\" height=\"540\" controls>\n",
    "  <source src=\"{0}\">\n",
    "</video>\n",
    "\"\"\".format(white_output))"
   ]
  },
  {
   "cell_type": "markdown",
   "metadata": {
    "deletable": true,
    "editable": true
   },
   "source": [
    "## Improve the draw_lines() function\n",
    "\n",
    "**At this point, if you were successful with making the pipeline and tuning parameters, you probably have the Hough line segments drawn onto the road, but what about identifying the full extent of the lane and marking it clearly as in the example video (P1_example.mp4)?  Think about defining a line to run the full length of the visible lane based on the line segments you identified with the Hough Transform. As mentioned previously, try to average and/or extrapolate the line segments you've detected to map out the full extent of the lane lines. You can see an example of the result you're going for in the video \"P1_example.mp4\".**\n",
    "\n",
    "**Go back and modify your draw_lines function accordingly and try re-running your pipeline. The new output should draw a single, solid line over the left lane line and a single, solid line over the right lane line. The lines should start from the bottom of the image and extend out to the top of the region of interest.**"
   ]
  },
  {
   "cell_type": "markdown",
   "metadata": {
    "deletable": true,
    "editable": true
   },
   "source": [
    "Now for the one with the solid yellow lane on the left. This one's more tricky!"
   ]
  },
  {
   "cell_type": "code",
   "execution_count": null,
   "metadata": {
    "collapsed": false,
    "deletable": true,
    "editable": true
   },
   "outputs": [],
   "source": [
    "yellow_output = 'yellow.mp4'\n",
    "clip2 = VideoFileClip('solidYellowLeft.mp4')\n",
    "yellow_clip = clip2.fl_image(lane_finder)\n",
    "%time yellow_clip.write_videofile(yellow_output, audio=False)"
   ]
  },
  {
   "cell_type": "code",
   "execution_count": null,
   "metadata": {
    "collapsed": false,
    "deletable": true,
    "editable": true
   },
   "outputs": [],
   "source": [
    "HTML(\"\"\"\n",
    "<video width=\"960\" height=\"540\" controls>\n",
    "  <source src=\"{0}\">\n",
    "</video>\n",
    "\"\"\".format(yellow_output))"
   ]
  },
  {
   "cell_type": "markdown",
   "metadata": {
    "deletable": true,
    "editable": true
   },
   "source": [
    "## Writeup and Submission\n",
    "\n",
    "If you're satisfied with your video outputs, it's time to make the report writeup in a pdf or markdown file. Once you have this Ipython notebook ready along with the writeup, it's time to submit for review! Here is a [link](https://github.com/udacity/CarND-LaneLines-P1/blob/master/writeup_template.md) to the writeup template file.\n",
    "\n",
    "### procedure\n",
    "\n",
    "1. turned image to hsv\n",
    "2. filtered it with white only\n",
    "3. applied gaussian blur\n",
    "4. applied canny edge detection\n",
    "5. defined region of interest\n",
    "6. setup hough line\n",
    "7. laid hough line over initial image\n",
    "8. in draw_lines\n",
    "\n",
    "    8. got the slope and length of each line\n",
    "    9. separated lines into right and left based on slope being negative or positive\n",
    "    10. if slope was between 0.4 and -0.4, meaning too shallow, the line was discarded\n",
    "    11. if the slope's absolute value was greater than 0.9 it was also discarded\n",
    "    12. added x's and y's and slopes and lengths to it's own list\n",
    "    13. calculated a weighted slope based on the length of the line\n",
    "    14. calculated the change in percentage of the previous slope with current slop\n",
    "    15. if previous slope was great than 1.5 percent for either lane, it was discarded\n",
    "    16. then took the remaining x's in the right and left lane and ran a polynomial fit\n",
    "    17. then averaged out the current x's with the previous x's so the transition is smoother\n",
    "    18. then showed the line \n",
    "    19. if any of the parameters failed, the previously cached line was shown\n",
    "\n",
    "### what to do better\n",
    "\n",
    "- use EKF or UKF instead of all these if statements to correct all the errors that we're currently encoutering. throwing away a lot of errors.\n",
    "- multi-dimensional poly fit for curved lines, currently only linear approx.\n",
    "- find better hough line parameters\n",
    "- make it work for rain, and dust, animals showing up, people\n",
    "- not filtering properly for yellow color, should do that\n",
    "- make it work for curved lines much better, doesn't work on challenge\n",
    "\n"
   ]
  },
  {
   "cell_type": "markdown",
   "metadata": {
    "collapsed": true,
    "deletable": true,
    "editable": true
   },
   "source": [
    "## Optional Challenge\n",
    "\n",
    "Try your lane finding pipeline on the video below.  Does it still work?  Can you figure out a way to make it more robust?  If you're up for the challenge, modify your pipeline so it works with this video and submit it along with the rest of your project!"
   ]
  },
  {
   "cell_type": "code",
   "execution_count": null,
   "metadata": {
    "collapsed": false,
    "deletable": true,
    "editable": true
   },
   "outputs": [],
   "source": [
    "challenge_output = 'extra.mp4'\n",
    "clip2 = VideoFileClip('challenge.mp4')\n",
    "challenge_clip = clip2.fl_image(lane_finder)\n",
    "%time challenge_clip.write_videofile(challenge_output, audio=False)"
   ]
  },
  {
   "cell_type": "code",
   "execution_count": null,
   "metadata": {
    "collapsed": false,
    "deletable": true,
    "editable": true
   },
   "outputs": [],
   "source": [
    "HTML(\"\"\"\n",
    "<video width=\"960\" height=\"540\" controls>\n",
    "  <source src=\"{0}\">\n",
    "</video>\n",
    "\"\"\".format(challenge_output))"
   ]
  }
 ],
 "metadata": {
  "anaconda-cloud": {},
  "celltoolbar": "Slideshow",
  "kernelspec": {
   "display_name": "Python 3",
   "language": "python",
   "name": "python3"
  },
  "language_info": {
   "codemirror_mode": {
    "name": "ipython",
    "version": 3
   },
   "file_extension": ".py",
   "mimetype": "text/x-python",
   "name": "python",
   "nbconvert_exporter": "python",
   "pygments_lexer": "ipython3",
   "version": "3.5.2"
  },
  "widgets": {
   "state": {},
   "version": "1.1.2"
  }
 },
 "nbformat": 4,
 "nbformat_minor": 0
}
